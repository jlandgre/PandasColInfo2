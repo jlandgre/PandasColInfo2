{
 "cells": [
  {
   "cell_type": "markdown",
   "metadata": {},
   "source": [
    "## Code infrastructure for importing CSV data and initializing imported data types\n",
    "JDL/Data Delve Engineer LLC 12/22/20"
   ]
  },
  {
   "cell_type": "markdown",
   "metadata": {},
   "source": [
    "This notebook and its imported libraries give a code framework for dealing well with imported CSV files in a project.  The code demos use of a Column Info Class Object that contains the metadata about project variables.  In this case, the key metadata is each variable's data type.<br />\n",
    "\n",
    "Background links\n",
    "* https://stackoverflow.com/questions/47988770/why-applytype-get-inconsistent-results-in-pandas\n",
    "* https://stackoverflow.com/questions/52622708/why-do-i-get-different-results-for-pandas-series-apply-and-dataframe-applymap\n",
    "* https://pandas.pydata.org/pandas-docs/stable/user_guide/missing_data.html\n",
    "* https://pandas.pydata.org/pandas-docs/stable/user_guide/gotchas.html\n",
    "* https://stackoverflow.com/questions/54906818/pandas-read-csv-with-dtypes-but-mixed-type-columnsna-values"
   ]
  },
  {
   "cell_type": "code",
   "execution_count": 1,
   "metadata": {},
   "outputs": [],
   "source": [
    "import pandas as pd\n",
    "import numpy as np\n",
    "import datetime as dt\n",
    "\n",
    "#Import utility modules\n",
    "import colinfo\n",
    "import pdutil"
   ]
  },
  {
   "cell_type": "markdown",
   "metadata": {},
   "source": [
    "#### Create sample data with various data types and write to CSV\n",
    "* `np.nan` creates blanks in the CSV file\n",
    "* For Flag columns (e.g. flagging that an event happened in time-series data), a 1/blank format is most efficient for CSV filesize, but Boolean is better for RAM and Pyarrow Feather file size efficiency\n",
    "* Feather is a preferred internal file format because of its file size efficiency versus CSV and also because feather stores data type for columns/variables\n",
    "* Feather insists on consistent data type within a variable (mixed types in a column "
   ]
  },
  {
   "cell_type": "code",
   "execution_count": 2,
   "metadata": {},
   "outputs": [],
   "source": [
    "dftemp = pd.DataFrame({'dt_col': ['1/1/2020',np.nan,'1/3/2020','1/4/2020'], 'int_col':[4,np.nan,3,1],\n",
    "                      'float_col':[0.0,1.0,np.nan,4.5],'flag_col':[1,np.nan,np.nan,1],'text_col':['a','b',None,'d']})\n",
    "\n",
    "#Write to CSV (to be read back in to fully simulate CSV behavior with missing values etc.)\n",
    "dftemp.to_csv('MixedTypes.csv', index=False)"
   ]
  },
  {
   "cell_type": "markdown",
   "metadata": {},
   "source": [
    "#### Read column info CSV file containing metadata about the data columns for the project"
   ]
  },
  {
   "cell_type": "code",
   "execution_count": 3,
   "metadata": {},
   "outputs": [
    {
     "name": "stdout",
     "output_type": "stream",
     "text": [
      "\n",
      "colinfo data type and isflagcol dictionaries\n",
      "\n",
      " {'dt_col': 'dt', 'int_col': 'Int16', 'float_col': 'float', 'flag_col': 'bool', 'text_col': 'object'}\n",
      "{'dt_col': False, 'int_col': False, 'float_col': False, 'flag_col': True, 'text_col': False} \n",
      "\n",
      "colinfo DataFrame\n",
      "\n"
     ]
    },
    {
     "data": {
      "text/html": [
       "<div>\n",
       "<style scoped>\n",
       "    .dataframe tbody tr th:only-of-type {\n",
       "        vertical-align: middle;\n",
       "    }\n",
       "\n",
       "    .dataframe tbody tr th {\n",
       "        vertical-align: top;\n",
       "    }\n",
       "\n",
       "    .dataframe thead th {\n",
       "        text-align: right;\n",
       "    }\n",
       "</style>\n",
       "<table border=\"1\" class=\"dataframe\">\n",
       "  <thead>\n",
       "    <tr style=\"text-align: right;\">\n",
       "      <th></th>\n",
       "      <th>description</th>\n",
       "      <th>units</th>\n",
       "      <th>type</th>\n",
       "    </tr>\n",
       "    <tr>\n",
       "      <th>name</th>\n",
       "      <th></th>\n",
       "      <th></th>\n",
       "      <th></th>\n",
       "    </tr>\n",
       "  </thead>\n",
       "  <tbody>\n",
       "    <tr>\n",
       "      <th>dt_col</th>\n",
       "      <td>A Datetime column</td>\n",
       "      <td>NaN</td>\n",
       "      <td>dt</td>\n",
       "    </tr>\n",
       "    <tr>\n",
       "      <th>int_col</th>\n",
       "      <td>An integer column</td>\n",
       "      <td>NaN</td>\n",
       "      <td>Int16</td>\n",
       "    </tr>\n",
       "    <tr>\n",
       "      <th>float_col</th>\n",
       "      <td>A float column</td>\n",
       "      <td>NaN</td>\n",
       "      <td>float</td>\n",
       "    </tr>\n",
       "    <tr>\n",
       "      <th>flag_col</th>\n",
       "      <td>A flag column - stored as 1/blank format in CSV</td>\n",
       "      <td>NaN</td>\n",
       "      <td>bool_flag</td>\n",
       "    </tr>\n",
       "    <tr>\n",
       "      <th>text_col</th>\n",
       "      <td>A text column</td>\n",
       "      <td>NaN</td>\n",
       "      <td>object</td>\n",
       "    </tr>\n",
       "  </tbody>\n",
       "</table>\n",
       "</div>"
      ],
      "text/plain": [
       "                                               description  units       type\n",
       "name                                                                        \n",
       "dt_col                                   A Datetime column    NaN         dt\n",
       "int_col                                  An integer column    NaN      Int16\n",
       "float_col                                   A float column    NaN      float\n",
       "flag_col   A flag column - stored as 1/blank format in CSV    NaN  bool_flag\n",
       "text_col                                     A text column    NaN     object"
      ]
     },
     "execution_count": 3,
     "metadata": {},
     "output_type": "execute_result"
    }
   ],
   "source": [
    "tblCI = colinfo.tblcolinfo()\n",
    "tblCI.dfcolinfo = pd.read_csv(tblCI.file, index_col=tblCI.name)\n",
    "tblCI = colinfo.BuildTypeAndFlagDicts(tblCI)\n",
    "\n",
    "print('\\ncolinfo data type and isflagcol dictionaries\\n\\n', tblCI.dict_types)\n",
    "print(tblCI.dict_isflagcol, '\\n\\ncolinfo DataFrame\\n')\n",
    "tblCI.dfcolinfo"
   ]
  },
  {
   "cell_type": "markdown",
   "metadata": {},
   "source": [
    "### To Open an Individual CSV data File:\n",
    "* call pdutil.ImportCSV()\n",
    "  * opens the file and sets data types per colinfo dtype\n",
    "  * ImportCSV also converts bool_flag columns from 1/blank to Boolean"
   ]
  },
  {
   "cell_type": "code",
   "execution_count": 4,
   "metadata": {},
   "outputs": [
    {
     "data": {
      "text/html": [
       "<div>\n",
       "<style scoped>\n",
       "    .dataframe tbody tr th:only-of-type {\n",
       "        vertical-align: middle;\n",
       "    }\n",
       "\n",
       "    .dataframe tbody tr th {\n",
       "        vertical-align: top;\n",
       "    }\n",
       "\n",
       "    .dataframe thead th {\n",
       "        text-align: right;\n",
       "    }\n",
       "</style>\n",
       "<table border=\"1\" class=\"dataframe\">\n",
       "  <thead>\n",
       "    <tr style=\"text-align: right;\">\n",
       "      <th></th>\n",
       "      <th>dt_col</th>\n",
       "      <th>int_col</th>\n",
       "      <th>float_col</th>\n",
       "      <th>flag_col</th>\n",
       "      <th>text_col</th>\n",
       "    </tr>\n",
       "  </thead>\n",
       "  <tbody>\n",
       "    <tr>\n",
       "      <th>0</th>\n",
       "      <td>2020-01-01</td>\n",
       "      <td>4</td>\n",
       "      <td>0.0</td>\n",
       "      <td>True</td>\n",
       "      <td>a</td>\n",
       "    </tr>\n",
       "    <tr>\n",
       "      <th>1</th>\n",
       "      <td>NaT</td>\n",
       "      <td>&lt;NA&gt;</td>\n",
       "      <td>1.0</td>\n",
       "      <td>False</td>\n",
       "      <td>b</td>\n",
       "    </tr>\n",
       "    <tr>\n",
       "      <th>2</th>\n",
       "      <td>2020-01-03</td>\n",
       "      <td>3</td>\n",
       "      <td>NaN</td>\n",
       "      <td>False</td>\n",
       "      <td>NaN</td>\n",
       "    </tr>\n",
       "    <tr>\n",
       "      <th>3</th>\n",
       "      <td>2020-01-04</td>\n",
       "      <td>1</td>\n",
       "      <td>4.5</td>\n",
       "      <td>True</td>\n",
       "      <td>d</td>\n",
       "    </tr>\n",
       "  </tbody>\n",
       "</table>\n",
       "</div>"
      ],
      "text/plain": [
       "      dt_col  int_col  float_col  flag_col text_col\n",
       "0 2020-01-01        4        0.0      True        a\n",
       "1        NaT     <NA>        1.0     False        b\n",
       "2 2020-01-03        3        NaN     False      NaN\n",
       "3 2020-01-04        1        4.5      True        d"
      ]
     },
     "execution_count": 4,
     "metadata": {},
     "output_type": "execute_result"
    }
   ],
   "source": [
    "df = pdutil.ImportCSV('MixedTypes.csv', tblCI)\n",
    "df"
   ]
  },
  {
   "cell_type": "code",
   "execution_count": 5,
   "metadata": {},
   "outputs": [
    {
     "name": "stdout",
     "output_type": "stream",
     "text": [
      "<class 'pandas.core.frame.DataFrame'>\n",
      "RangeIndex: 4 entries, 0 to 3\n",
      "Data columns (total 5 columns):\n",
      " #   Column     Non-Null Count  Dtype         \n",
      "---  ------     --------------  -----         \n",
      " 0   dt_col     3 non-null      datetime64[ns]\n",
      " 1   int_col    3 non-null      Int16         \n",
      " 2   float_col  3 non-null      float64       \n",
      " 3   flag_col   4 non-null      bool          \n",
      " 4   text_col   3 non-null      object        \n",
      "dtypes: Int16(1), bool(1), datetime64[ns](1), float64(1), object(1)\n",
      "memory usage: 438.0 bytes\n"
     ]
    }
   ],
   "source": [
    "df.info(memory_usage='deep')"
   ]
  },
  {
   "cell_type": "markdown",
   "metadata": {},
   "source": [
    "#### Feather write/read test"
   ]
  },
  {
   "cell_type": "code",
   "execution_count": 6,
   "metadata": {},
   "outputs": [
    {
     "data": {
      "text/html": [
       "<div>\n",
       "<style scoped>\n",
       "    .dataframe tbody tr th:only-of-type {\n",
       "        vertical-align: middle;\n",
       "    }\n",
       "\n",
       "    .dataframe tbody tr th {\n",
       "        vertical-align: top;\n",
       "    }\n",
       "\n",
       "    .dataframe thead th {\n",
       "        text-align: right;\n",
       "    }\n",
       "</style>\n",
       "<table border=\"1\" class=\"dataframe\">\n",
       "  <thead>\n",
       "    <tr style=\"text-align: right;\">\n",
       "      <th></th>\n",
       "      <th>dt_col</th>\n",
       "      <th>int_col</th>\n",
       "      <th>float_col</th>\n",
       "      <th>flag_col</th>\n",
       "      <th>text_col</th>\n",
       "    </tr>\n",
       "  </thead>\n",
       "  <tbody>\n",
       "    <tr>\n",
       "      <th>0</th>\n",
       "      <td>2020-01-01</td>\n",
       "      <td>4</td>\n",
       "      <td>0.0</td>\n",
       "      <td>True</td>\n",
       "      <td>a</td>\n",
       "    </tr>\n",
       "    <tr>\n",
       "      <th>1</th>\n",
       "      <td>NaT</td>\n",
       "      <td>&lt;NA&gt;</td>\n",
       "      <td>1.0</td>\n",
       "      <td>False</td>\n",
       "      <td>b</td>\n",
       "    </tr>\n",
       "    <tr>\n",
       "      <th>2</th>\n",
       "      <td>2020-01-03</td>\n",
       "      <td>3</td>\n",
       "      <td>NaN</td>\n",
       "      <td>False</td>\n",
       "      <td>None</td>\n",
       "    </tr>\n",
       "    <tr>\n",
       "      <th>3</th>\n",
       "      <td>2020-01-04</td>\n",
       "      <td>1</td>\n",
       "      <td>4.5</td>\n",
       "      <td>True</td>\n",
       "      <td>d</td>\n",
       "    </tr>\n",
       "  </tbody>\n",
       "</table>\n",
       "</div>"
      ],
      "text/plain": [
       "      dt_col  int_col  float_col  flag_col text_col\n",
       "0 2020-01-01        4        0.0      True        a\n",
       "1        NaT     <NA>        1.0     False        b\n",
       "2 2020-01-03        3        NaN     False     None\n",
       "3 2020-01-04        1        4.5      True        d"
      ]
     },
     "execution_count": 6,
     "metadata": {},
     "output_type": "execute_result"
    }
   ],
   "source": [
    "df.to_feather('ftest.feather')\n",
    "df2 = pd.read_feather('ftest.feather')\n",
    "df2"
   ]
  },
  {
   "cell_type": "markdown",
   "metadata": {},
   "source": [
    "## A couple of insights for diagnostics on data types\n",
    "* `pd.isnull()` can be used to isolate missing values for numeric columns\n",
    "* `applymap(type)` shows element-wise data types\n",
    "* data type comparisons are facilitated by using `.applymap.iloc[x]` instead of `.iloc[x].apply(type)` that gives Numpy data types"
   ]
  },
  {
   "cell_type": "code",
   "execution_count": 7,
   "metadata": {},
   "outputs": [
    {
     "data": {
      "text/html": [
       "<div>\n",
       "<style scoped>\n",
       "    .dataframe tbody tr th:only-of-type {\n",
       "        vertical-align: middle;\n",
       "    }\n",
       "\n",
       "    .dataframe tbody tr th {\n",
       "        vertical-align: top;\n",
       "    }\n",
       "\n",
       "    .dataframe thead th {\n",
       "        text-align: right;\n",
       "    }\n",
       "</style>\n",
       "<table border=\"1\" class=\"dataframe\">\n",
       "  <thead>\n",
       "    <tr style=\"text-align: right;\">\n",
       "      <th></th>\n",
       "      <th>dt_col</th>\n",
       "      <th>int_col</th>\n",
       "      <th>float_col</th>\n",
       "      <th>flag_col</th>\n",
       "      <th>text_col</th>\n",
       "    </tr>\n",
       "  </thead>\n",
       "  <tbody>\n",
       "    <tr>\n",
       "      <th>0</th>\n",
       "      <td>False</td>\n",
       "      <td>False</td>\n",
       "      <td>False</td>\n",
       "      <td>False</td>\n",
       "      <td>False</td>\n",
       "    </tr>\n",
       "    <tr>\n",
       "      <th>1</th>\n",
       "      <td>True</td>\n",
       "      <td>True</td>\n",
       "      <td>False</td>\n",
       "      <td>True</td>\n",
       "      <td>False</td>\n",
       "    </tr>\n",
       "    <tr>\n",
       "      <th>2</th>\n",
       "      <td>False</td>\n",
       "      <td>False</td>\n",
       "      <td>True</td>\n",
       "      <td>True</td>\n",
       "      <td>True</td>\n",
       "    </tr>\n",
       "    <tr>\n",
       "      <th>3</th>\n",
       "      <td>False</td>\n",
       "      <td>False</td>\n",
       "      <td>False</td>\n",
       "      <td>False</td>\n",
       "      <td>False</td>\n",
       "    </tr>\n",
       "  </tbody>\n",
       "</table>\n",
       "</div>"
      ],
      "text/plain": [
       "   dt_col  int_col  float_col  flag_col  text_col\n",
       "0   False    False      False     False     False\n",
       "1    True     True      False      True     False\n",
       "2   False    False       True      True      True\n",
       "3   False    False      False     False     False"
      ]
     },
     "execution_count": 7,
     "metadata": {},
     "output_type": "execute_result"
    }
   ],
   "source": [
    "dftemp.isnull()"
   ]
  },
  {
   "cell_type": "code",
   "execution_count": 8,
   "metadata": {},
   "outputs": [
    {
     "data": {
      "text/html": [
       "<div>\n",
       "<style scoped>\n",
       "    .dataframe tbody tr th:only-of-type {\n",
       "        vertical-align: middle;\n",
       "    }\n",
       "\n",
       "    .dataframe tbody tr th {\n",
       "        vertical-align: top;\n",
       "    }\n",
       "\n",
       "    .dataframe thead th {\n",
       "        text-align: right;\n",
       "    }\n",
       "</style>\n",
       "<table border=\"1\" class=\"dataframe\">\n",
       "  <thead>\n",
       "    <tr style=\"text-align: right;\">\n",
       "      <th></th>\n",
       "      <th>dt_col</th>\n",
       "      <th>int_col</th>\n",
       "      <th>float_col</th>\n",
       "      <th>flag_col</th>\n",
       "      <th>text_col</th>\n",
       "    </tr>\n",
       "  </thead>\n",
       "  <tbody>\n",
       "    <tr>\n",
       "      <th>0</th>\n",
       "      <td>&lt;class 'pandas._libs.tslibs.timestamps.Timesta...</td>\n",
       "      <td>&lt;class 'int'&gt;</td>\n",
       "      <td>&lt;class 'float'&gt;</td>\n",
       "      <td>&lt;class 'bool'&gt;</td>\n",
       "      <td>&lt;class 'str'&gt;</td>\n",
       "    </tr>\n",
       "    <tr>\n",
       "      <th>1</th>\n",
       "      <td>&lt;class 'pandas._libs.tslibs.nattype.NaTType'&gt;</td>\n",
       "      <td>&lt;class 'pandas._libs.missing.NAType'&gt;</td>\n",
       "      <td>&lt;class 'float'&gt;</td>\n",
       "      <td>&lt;class 'bool'&gt;</td>\n",
       "      <td>&lt;class 'str'&gt;</td>\n",
       "    </tr>\n",
       "    <tr>\n",
       "      <th>2</th>\n",
       "      <td>&lt;class 'pandas._libs.tslibs.timestamps.Timesta...</td>\n",
       "      <td>&lt;class 'int'&gt;</td>\n",
       "      <td>&lt;class 'float'&gt;</td>\n",
       "      <td>&lt;class 'bool'&gt;</td>\n",
       "      <td>&lt;class 'float'&gt;</td>\n",
       "    </tr>\n",
       "    <tr>\n",
       "      <th>3</th>\n",
       "      <td>&lt;class 'pandas._libs.tslibs.timestamps.Timesta...</td>\n",
       "      <td>&lt;class 'int'&gt;</td>\n",
       "      <td>&lt;class 'float'&gt;</td>\n",
       "      <td>&lt;class 'bool'&gt;</td>\n",
       "      <td>&lt;class 'str'&gt;</td>\n",
       "    </tr>\n",
       "  </tbody>\n",
       "</table>\n",
       "</div>"
      ],
      "text/plain": [
       "                                              dt_col  \\\n",
       "0  <class 'pandas._libs.tslibs.timestamps.Timesta...   \n",
       "1      <class 'pandas._libs.tslibs.nattype.NaTType'>   \n",
       "2  <class 'pandas._libs.tslibs.timestamps.Timesta...   \n",
       "3  <class 'pandas._libs.tslibs.timestamps.Timesta...   \n",
       "\n",
       "                                 int_col        float_col        flag_col  \\\n",
       "0                          <class 'int'>  <class 'float'>  <class 'bool'>   \n",
       "1  <class 'pandas._libs.missing.NAType'>  <class 'float'>  <class 'bool'>   \n",
       "2                          <class 'int'>  <class 'float'>  <class 'bool'>   \n",
       "3                          <class 'int'>  <class 'float'>  <class 'bool'>   \n",
       "\n",
       "          text_col  \n",
       "0    <class 'str'>  \n",
       "1    <class 'str'>  \n",
       "2  <class 'float'>  \n",
       "3    <class 'str'>  "
      ]
     },
     "execution_count": 8,
     "metadata": {},
     "output_type": "execute_result"
    }
   ],
   "source": [
    "df.applymap(type)"
   ]
  },
  {
   "cell_type": "code",
   "execution_count": 9,
   "metadata": {},
   "outputs": [
    {
     "name": "stdout",
     "output_type": "stream",
     "text": [
      "dt_col       <class 'pandas._libs.tslibs.timestamps.Timesta...\n",
      "int_col                                          <class 'int'>\n",
      "float_col                                      <class 'float'>\n",
      "flag_col                                        <class 'bool'>\n",
      "text_col                                         <class 'str'>\n",
      "Name: 0, dtype: object \n",
      "\n",
      "\n",
      "dt_col       <class 'pandas._libs.tslibs.timestamps.Timesta...\n",
      "int_col                                  <class 'numpy.int16'>\n",
      "float_col                              <class 'numpy.float64'>\n",
      "flag_col                                 <class 'numpy.bool_'>\n",
      "text_col                                         <class 'str'>\n",
      "Name: 0, dtype: object\n"
     ]
    }
   ],
   "source": [
    "print(df.applymap(type).iloc[0], '\\n\\n')\n",
    "print(df.iloc[0].apply(type))"
   ]
  },
  {
   "cell_type": "markdown",
   "metadata": {},
   "source": [
    "#### Mixed types within a column don't work with feather\n",
    "* Feather sets type by column --not element-wise\n",
    "* Create mixed type within int_col by reading the CSV with dtype='object' and then inserting an integer series for some values"
   ]
  },
  {
   "cell_type": "code",
   "execution_count": 10,
   "metadata": {},
   "outputs": [
    {
     "data": {
      "text/html": [
       "<div>\n",
       "<style scoped>\n",
       "    .dataframe tbody tr th:only-of-type {\n",
       "        vertical-align: middle;\n",
       "    }\n",
       "\n",
       "    .dataframe tbody tr th {\n",
       "        vertical-align: top;\n",
       "    }\n",
       "\n",
       "    .dataframe thead th {\n",
       "        text-align: right;\n",
       "    }\n",
       "</style>\n",
       "<table border=\"1\" class=\"dataframe\">\n",
       "  <thead>\n",
       "    <tr style=\"text-align: right;\">\n",
       "      <th></th>\n",
       "      <th>int_col</th>\n",
       "    </tr>\n",
       "  </thead>\n",
       "  <tbody>\n",
       "    <tr>\n",
       "      <th>0</th>\n",
       "      <td>&lt;class 'str'&gt;</td>\n",
       "    </tr>\n",
       "    <tr>\n",
       "      <th>1</th>\n",
       "      <td>&lt;class 'float'&gt;</td>\n",
       "    </tr>\n",
       "    <tr>\n",
       "      <th>2</th>\n",
       "      <td>&lt;class 'int'&gt;</td>\n",
       "    </tr>\n",
       "    <tr>\n",
       "      <th>3</th>\n",
       "      <td>&lt;class 'int'&gt;</td>\n",
       "    </tr>\n",
       "  </tbody>\n",
       "</table>\n",
       "</div>"
      ],
      "text/plain": [
       "           int_col\n",
       "0    <class 'str'>\n",
       "1  <class 'float'>\n",
       "2    <class 'int'>\n",
       "3    <class 'int'>"
      ]
     },
     "execution_count": 10,
     "metadata": {},
     "output_type": "execute_result"
    }
   ],
   "source": [
    "#Read in a fresh DataFrame from the CSV\n",
    "df_in = pd.read_csv('MixedTypes.csv', dtype='object') \n",
    "\n",
    "#Insert a mis-typed snippet into df['int_col']\n",
    "df_in.loc[range(2,4),'int_col'] = pd.Series([1,5], index=range(2,4))\n",
    "\n",
    "#Drop unrelated columns\n",
    "df3 = df_in.drop(['dt_col', 'float_col', 'flag_col', 'text_col'], axis=1)\n",
    "\n",
    "\n",
    "df3.applymap(type)"
   ]
  },
  {
   "cell_type": "code",
   "execution_count": 11,
   "metadata": {},
   "outputs": [],
   "source": [
    "#Raises: \"ArrowTypeError: (\"Expected a bytes object, got a 'int' object\", 'Conversion failed for column int_col with type object')\"\n",
    "#df3.to_feather('ftest2.feather')"
   ]
  }
 ],
 "metadata": {
  "kernelspec": {
   "display_name": "Python 3",
   "language": "python",
   "name": "python3"
  },
  "language_info": {
   "codemirror_mode": {
    "name": "ipython",
    "version": 3
   },
   "file_extension": ".py",
   "mimetype": "text/x-python",
   "name": "python",
   "nbconvert_exporter": "python",
   "pygments_lexer": "ipython3",
   "version": "3.7.7"
  }
 },
 "nbformat": 4,
 "nbformat_minor": 4
}
